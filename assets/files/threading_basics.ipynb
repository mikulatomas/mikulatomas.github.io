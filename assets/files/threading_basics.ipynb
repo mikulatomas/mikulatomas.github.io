{
 "cells": [
  {
   "cell_type": "code",
   "execution_count": null,
   "metadata": {
    "collapsed": true,
    "deletable": true,
    "editable": true
   },
   "outputs": [],
   "source": [
    "import threading\n",
    "\n",
    "def example_activity():\n",
    "    print(\"Hello World\")\n",
    "\n",
    "example_thread = threading.Thread(target=example_activity)\n",
    "\n",
    "example_thread.start()"
   ]
  },
  {
   "cell_type": "code",
   "execution_count": 2,
   "metadata": {
    "collapsed": false,
    "deletable": true,
    "editable": true
   },
   "outputs": [
    {
     "name": "stdout",
     "output_type": "stream",
     "text": [
      "Your number is 10\n"
     ]
    }
   ],
   "source": [
    "import threading\n",
    "\n",
    "def example_activity_with_args(number):\n",
    "    print(f\"Your number is {number}\")\n",
    "\n",
    "example_thread = threading.Thread(target=example_activity_with_args, args=(10,))\n",
    "\n",
    "example_thread.start()"
   ]
  },
  {
   "cell_type": "code",
   "execution_count": 22,
   "metadata": {
    "collapsed": false,
    "deletable": true,
    "editable": true
   },
   "outputs": [
    {
     "name": "stdout",
     "output_type": "stream",
     "text": [
      "142614\n"
     ]
    }
   ],
   "source": [
    "import threading\n",
    "\n",
    "def increment():\n",
    "    global counter\n",
    "    \n",
    "    for i in range(100000):\n",
    "        counter += 1\n",
    "\n",
    "# Globální counter        \n",
    "counter = 0    \n",
    "\n",
    "thread1 = threading.Thread(target=increment)\n",
    "thread2 = threading.Thread(target=increment)\n",
    "\n",
    "# Spustíme thread\n",
    "thread1.start()\n",
    "thread2.start()\n",
    "\n",
    "# Počkáme na to až thread doběhne\n",
    "thread1.join()\n",
    "thread2.join()\n",
    "\n",
    "print(counter)"
   ]
  }
 ],
 "metadata": {
  "kernelspec": {
   "display_name": "Python 3",
   "language": "python",
   "name": "python3"
  },
  "language_info": {
   "codemirror_mode": {
    "name": "ipython",
    "version": 3
   },
   "file_extension": ".py",
   "mimetype": "text/x-python",
   "name": "python",
   "nbconvert_exporter": "python",
   "pygments_lexer": "ipython3",
   "version": "3.6.0"
  }
 },
 "nbformat": 4,
 "nbformat_minor": 2
}
