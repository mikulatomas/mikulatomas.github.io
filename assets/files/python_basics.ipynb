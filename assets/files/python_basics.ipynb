{
 "cells": [
  {
   "cell_type": "markdown",
   "metadata": {},
   "source": [
    "# Základy jazyka Python\n",
    "\n",
    "Více dostupné na odkazu [https://realpython.com/python-first-steps/](https://realpython.com/python-first-steps/)"
   ]
  },
  {
   "cell_type": "markdown",
   "metadata": {
    "deletable": true,
    "editable": true
   },
   "source": [
    "# Promněnné"
   ]
  },
  {
   "cell_type": "code",
   "execution_count": 49,
   "metadata": {
    "collapsed": false,
    "deletable": true,
    "editable": true
   },
   "outputs": [],
   "source": [
    "# název proměnné by měl vždy obsahovat podtržítka\n",
    "nazev_promenne = 'hodnota'\n",
    "cislo = 1\n",
    "desetine_cslo = 1.56\n",
    "boolean = True"
   ]
  },
  {
   "cell_type": "markdown",
   "metadata": {},
   "source": [
    "# Seznamy"
   ]
  },
  {
   "cell_type": "code",
   "execution_count": 59,
   "metadata": {
    "collapsed": false
   },
   "outputs": [],
   "source": [
    "seznam = []\n",
    "seznam_s_hodnotami = [1, 2, 3]\n",
    "\n",
    "# assert testuje zda je podminka splnena, pouzivano casto u testovani\n",
    "# testuje zda je hodnota vracena seznam_s_hodnotami[0] rovna 1, \n",
    "# jelikoz na indexu 0 ocekavame jednicku je podminka splnena a assert uspesne probehne\n",
    "assert seznam_s_hodnotami[0] == 1\n",
    "\n",
    "# test zda je prvek v seznamu\n",
    "assert 1 in seznam_s_hodnotami\n",
    "\n",
    "# delka seznamu\n",
    "assert len(seznam_s_hodnotami) == 3\n",
    "\n",
    "# pridani prvku do seznamu, seznam muze obsahovat rozdilene datove typy\n",
    "seznam_s_hodnotami.append('ahoj')\n",
    "\n",
    "assert seznam_s_hodnotami == [1, 2, 3, 'ahoj']\n",
    "\n",
    "# seznamy lze \"rezat\"\n",
    "\n",
    "# veskere prvky do indexu 2\n",
    "assert seznam_s_hodnotami[:2] == [1, 2]\n",
    "\n",
    "# veskere prvky od indexu 2\n",
    "assert seznam_s_hodnotami[2:] == [3, 'ahoj']\n",
    "\n",
    "# Seznamy lze libovolne zanorovat, nebo je pouzivat jako frontu, zasobnik, viz dokumentace"
   ]
  },
  {
   "cell_type": "markdown",
   "metadata": {},
   "source": [
    "# Řetězce"
   ]
  },
  {
   "cell_type": "code",
   "execution_count": 66,
   "metadata": {
    "collapsed": false
   },
   "outputs": [],
   "source": [
    "retezec = 'abba'\n",
    "\n",
    "# retezec se chova jako seznam\n",
    "assert len(retezec) == 4\n",
    "assert retezec[0] == 'a'\n",
    "\n",
    "# prirazeni vsak nefunguje\n",
    "# retezec[0] = 'c'\n",
    "\n",
    "# podretezec ziskame jednoduse\n",
    "assert retezec[:2] == 'ab'"
   ]
  },
  {
   "cell_type": "markdown",
   "metadata": {},
   "source": [
    "# Tuple"
   ]
  },
  {
   "cell_type": "code",
   "execution_count": 51,
   "metadata": {
    "collapsed": false
   },
   "outputs": [
    {
     "name": "stdout",
     "output_type": "stream",
     "text": [
      "(1, 3, 2)\n"
     ]
    },
    {
     "ename": "TypeError",
     "evalue": "'tuple' object does not support item assignment",
     "output_type": "error",
     "traceback": [
      "\u001b[0;31m---------------------------------------------------------------------------\u001b[0m",
      "\u001b[0;31mTypeError\u001b[0m                                 Traceback (most recent call last)",
      "\u001b[0;32m<ipython-input-51-4dd037267949>\u001b[0m in \u001b[0;36m<module>\u001b[0;34m()\u001b[0m\n\u001b[1;32m      6\u001b[0m \u001b[0;34m\u001b[0m\u001b[0m\n\u001b[1;32m      7\u001b[0m \u001b[0;31m# nefunguje\u001b[0m\u001b[0;34m\u001b[0m\u001b[0;34m\u001b[0m\u001b[0m\n\u001b[0;32m----> 8\u001b[0;31m \u001b[0mtoto_je_tuple\u001b[0m\u001b[0;34m[\u001b[0m\u001b[0;36m0\u001b[0m\u001b[0;34m]\u001b[0m \u001b[0;34m=\u001b[0m \u001b[0;34m'ahoj'\u001b[0m\u001b[0;34m\u001b[0m\u001b[0m\n\u001b[0m",
      "\u001b[0;31mTypeError\u001b[0m: 'tuple' object does not support item assignment"
     ]
    }
   ],
   "source": [
    "# Tuple narozdíl od seznamu obsahuje neměnné prvky\n",
    "\n",
    "toto_je_tuple = (1, 3, 2)\n",
    "\n",
    "print(toto_je_tuple)\n",
    "\n",
    "# nefunguje\n",
    "toto_je_tuple[0] = 'ahoj'"
   ]
  },
  {
   "cell_type": "markdown",
   "metadata": {},
   "source": [
    "# Slovníky"
   ]
  },
  {
   "cell_type": "code",
   "execution_count": 52,
   "metadata": {
    "collapsed": true
   },
   "outputs": [],
   "source": [
    "# Slovniky\n",
    "slovnik = {'a': 1, 'b': 2}\n",
    "\n",
    "assert slovnik.get('a') == slovnik['a']"
   ]
  },
  {
   "cell_type": "markdown",
   "metadata": {
    "deletable": true,
    "editable": true
   },
   "source": [
    "# Print"
   ]
  },
  {
   "cell_type": "code",
   "execution_count": 53,
   "metadata": {
    "collapsed": false,
    "deletable": true,
    "editable": true
   },
   "outputs": [
    {
     "name": "stdout",
     "output_type": "stream",
     "text": [
      "Ahoj světe\n",
      "Ahoj světe\n",
      "Cislo 1\n",
      "Cislo 1\n"
     ]
    }
   ],
   "source": [
    "var = 'světe'\n",
    "\n",
    "# Jde to i takto, ale známe lepší\n",
    "print(\"Ahoj \" + var)\n",
    "\n",
    "print(\"Ahoj {}\".format(var))\n",
    "\n",
    "cislo = 1\n",
    "\n",
    "# pokud nepouzijeme format, musime cislo prevest na string\n",
    "print(\"Cislo \" + str(cislo))\n",
    "\n",
    "print(\"Cislo {}\".format(cislo))"
   ]
  },
  {
   "cell_type": "markdown",
   "metadata": {
    "deletable": true,
    "editable": true
   },
   "source": [
    "# Podmínky"
   ]
  },
  {
   "cell_type": "code",
   "execution_count": 54,
   "metadata": {
    "collapsed": false,
    "deletable": true,
    "editable": true
   },
   "outputs": [
    {
     "name": "stdout",
     "output_type": "stream",
     "text": [
      "kladne\n"
     ]
    }
   ],
   "source": [
    "cislo = 1\n",
    "\n",
    "if cislo < 0:\n",
    "    print(\"zaporne\")\n",
    "elif cislo > 0:\n",
    "    print(\"kladne\")\n",
    "else:\n",
    "    print(\"nula\")\n",
    "    \n",
    "\n",
    "# v podminkach je mozne pouzivat klasicke logicke operatory\n",
    "assert (True and False) == False\n",
    "assert (True or False) == True\n",
    "assert (not True) == False\n",
    "    "
   ]
  },
  {
   "cell_type": "markdown",
   "metadata": {
    "deletable": true,
    "editable": true
   },
   "source": [
    "# Cykly"
   ]
  },
  {
   "cell_type": "code",
   "execution_count": 55,
   "metadata": {
    "collapsed": false,
    "deletable": true,
    "editable": true
   },
   "outputs": [
    {
     "name": "stdout",
     "output_type": "stream",
     "text": [
      "1\n",
      "2\n",
      "3\n",
      "4\n",
      "5\n"
     ]
    }
   ],
   "source": [
    "# Ostatní programovací jazyky\n",
    "\n",
    "my_items = [1, 2, 3, 4, 5]\n",
    "\n",
    "i = 0\n",
    "while i < len(my_items):\n",
    "    print(my_items[i])\n",
    "    i += 1"
   ]
  },
  {
   "cell_type": "code",
   "execution_count": 56,
   "metadata": {
    "collapsed": false,
    "deletable": true,
    "editable": true
   },
   "outputs": [
    {
     "name": "stdout",
     "output_type": "stream",
     "text": [
      "1\n",
      "2\n",
      "3\n",
      "4\n",
      "5\n",
      "Index: 0\n",
      "Index: 1\n",
      "Index: 2\n",
      "Index: 3\n",
      "Index: 4\n",
      "Index: 5\n",
      "Sestupny index: 5\n",
      "Sestupny index: 4\n",
      "Sestupny index: 3\n",
      "Sestupny index: 2\n",
      "Sestupny index: 1\n",
      "Sestupny index: 0\n",
      "klic a hodnota 1\n",
      "klic b hodnota 2\n"
     ]
    }
   ],
   "source": [
    "# Python\n",
    "\n",
    "my_items = [1, 2, 3, 4, 5]\n",
    "\n",
    "# nejcasteji pouzivana iterace, for each\n",
    "for item in my_items:\n",
    "    print(item)\n",
    "    \n",
    "# pokud precejenom potrebujeme iterovat v nejakem rozmezi pouzivame range()\n",
    "for i in range(6):\n",
    "    print(\"Index: {}\".format(i))\n",
    "    \n",
    "# range muzeme pouzit i na sestupnou iteraci\n",
    "for i in range(5, -1, -1):\n",
    "    print(\"Sestupny index: {}\".format(i))\n",
    "    \n",
    "\n",
    "slovnik = {'a': 1, 'b': 2}\n",
    "\n",
    "# pomoci for each muzeme krasne iterovat pres slovniky,\n",
    "# ze slovniku je nutne ziskat seznam dvojic 'klic, hodnota' pomoci .items()\n",
    "for klic, hodnota in slovnik.items():\n",
    "    print(\"klic {} hodnota {}\".format(klic, hodnota))"
   ]
  },
  {
   "cell_type": "markdown",
   "metadata": {},
   "source": [
    "# Funkce"
   ]
  },
  {
   "cell_type": "code",
   "execution_count": 67,
   "metadata": {
    "collapsed": true
   },
   "outputs": [],
   "source": [
    "# nazev funkce rovnez obsahuje podtrzitko\n",
    "def moje_funkce(argument):\n",
    "    return argument + 1\n",
    "\n",
    "assert moje_funkce(1) == 2"
   ]
  }
 ],
 "metadata": {
  "kernelspec": {
   "display_name": "Python 3",
   "language": "python",
   "name": "python3"
  },
  "language_info": {
   "codemirror_mode": {
    "name": "ipython",
    "version": 3
   },
   "file_extension": ".py",
   "mimetype": "text/x-python",
   "name": "python",
   "nbconvert_exporter": "python",
   "pygments_lexer": "ipython3",
   "version": "3.6.0"
  }
 },
 "nbformat": 4,
 "nbformat_minor": 2
}
