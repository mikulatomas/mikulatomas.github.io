{
 "cells": [
  {
   "cell_type": "code",
   "execution_count": 8,
   "metadata": {
    "collapsed": false,
    "deletable": true,
    "editable": true
   },
   "outputs": [
    {
     "name": "stdout",
     "output_type": "stream",
     "text": [
      "Produced 2\n",
      "Consumed 2\n",
      "Produced 1\n",
      "Produced 3\n",
      "Consumed 1\n",
      "Consumed 3\n",
      "Produced 0\n",
      "Produced 0\n",
      "Consumed 0\n",
      "Consumed 0\n",
      "Nothing in queue, but consumer will try to consume\n"
     ]
    },
    {
     "name": "stderr",
     "output_type": "stream",
     "text": [
      "Exception in thread Thread-11:\n",
      "Traceback (most recent call last):\n",
      "  File \"/Library/Frameworks/Python.framework/Versions/3.6/lib/python3.6/threading.py\", line 916, in _bootstrap_inner\n",
      "    self.run()\n",
      "  File \"<ipython-input-8-30fc504d70b3>\", line 28, in run\n",
      "    num = queue.pop(0)\n",
      "IndexError: pop from empty list\n",
      "\n"
     ]
    }
   ],
   "source": [
    "from threading import Thread, Lock\n",
    "import time\n",
    "import random\n",
    "\n",
    "queue = []\n",
    "lock = Lock()\n",
    "\n",
    "class ProducerThread(Thread):\n",
    "    def run(self):\n",
    "        # Vytvoreni seznamu [0, 1, 2, 3, 4]\n",
    "        nums = range(5) \n",
    "        \n",
    "        # Umozneni zapisu do globalni promenne (append)\n",
    "        global queue\n",
    "        \n",
    "        while True:\n",
    "            # Vyber nahodneho cisla z [0, 1, 2, 3, 4]\n",
    "            num = random.choice(nums) \n",
    "            \n",
    "            lock.acquire()\n",
    "            queue.append(num)\n",
    "            print(\"Produced {}\".format(num))\n",
    "            lock.release()\n",
    "            \n",
    "            time.sleep(random.random())\n",
    "\n",
    "\n",
    "class ConsumerThread(Thread):\n",
    "    def run(self):\n",
    "        \n",
    "        # Umozneni zapisu do globalni promenne (pop)\n",
    "        global queue\n",
    "        \n",
    "        while True:\n",
    "            lock.acquire()\n",
    "            \n",
    "            # Demonstrace problemu, pop na prazdnou frontu\n",
    "            # Konzument by mel cekat\n",
    "            if not queue:\n",
    "                print(\"Nothing in queue, but consumer will try to consume\")\n",
    "                \n",
    "            num = queue.pop(0)\n",
    "            print(\"Consumed {}\".format(num))\n",
    "            lock.release()\n",
    "            \n",
    "            time.sleep(random.random())\n",
    "\n",
    "\n",
    "ProducerThread().start()\n",
    "ConsumerThread().start()"
   ]
  }
 ],
 "metadata": {
  "kernelspec": {
   "display_name": "Python 3",
   "language": "python",
   "name": "python3"
  },
  "language_info": {
   "codemirror_mode": {
    "name": "ipython",
    "version": 3
   },
   "file_extension": ".py",
   "mimetype": "text/x-python",
   "name": "python",
   "nbconvert_exporter": "python",
   "pygments_lexer": "ipython3",
   "version": "3.6.0"
  }
 },
 "nbformat": 4,
 "nbformat_minor": 2
}
