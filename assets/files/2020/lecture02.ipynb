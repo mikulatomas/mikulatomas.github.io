{
 "cells": [
  {
   "cell_type": "code",
   "execution_count": 47,
   "metadata": {
    "collapsed": false,
    "deletable": true,
    "editable": true
   },
   "outputs": [
    {
     "name": "stdout",
     "output_type": "stream",
     "text": [
      "200000\n"
     ]
    }
   ],
   "source": [
    "import threading\n",
    "\n",
    "# Semafor\n",
    "s = threading.Semaphore(value=1)\n",
    "\n",
    "def increment():\n",
    "    global counter\n",
    "    \n",
    "    for i in range(100000):\n",
    "        s.acquire()\n",
    "        counter += 1\n",
    "        s.release()\n",
    "\n",
    "# Globální counter        \n",
    "counter = 0    \n",
    "\n",
    "thread1 = threading.Thread(target=increment)\n",
    "thread2 = threading.Thread(target=increment)\n",
    "\n",
    "# Spustíme thread\n",
    "thread1.start()\n",
    "thread2.start()\n",
    "\n",
    "# Počkáme na to až thread doběhne\n",
    "thread1.join()\n",
    "thread2.join()\n",
    "\n",
    "print(counter)"
   ]
  },
  {
   "cell_type": "code",
   "execution_count": 39,
   "metadata": {
    "collapsed": false,
    "deletable": true,
    "editable": true
   },
   "outputs": [
    {
     "name": "stdout",
     "output_type": "stream",
     "text": [
      "Print before B\n",
      "Print before A\n",
      "B\n",
      "A\n"
     ]
    }
   ],
   "source": [
    "import threading\n",
    "import time\n",
    "import random\n",
    "\n",
    "def thread_a_function():\n",
    "    # Náhodné čekání, simuluje pomalejší/rychlejší vlákno\n",
    "    time.sleep(random.uniform(0, 1))\n",
    "    # Obsah vlákna\n",
    "    print(\"Print before B\")\n",
    "    print(\"A\")\n",
    "        \n",
    "def thread_b_function():\n",
    "    # Náhodné čekání, simuluje pomalejší/rychlejší vlákno\n",
    "    time.sleep(random.uniform(0, 1))\n",
    "    # Obsah vlákna\n",
    "    print(\"Print before A\")\n",
    "    print(\"B\")\n",
    "    \n",
    "\n",
    "thread_a = threading.Thread(target=thread_a_function)\n",
    "thread_b = threading.Thread(target=thread_b_function)\n",
    "\n",
    "thread_a.start()\n",
    "thread_b.start()"
   ]
  }
 ],
 "metadata": {
  "kernelspec": {
   "display_name": "Python 3",
   "language": "python",
   "name": "python3"
  },
  "language_info": {
   "codemirror_mode": {
    "name": "ipython",
    "version": 3
   },
   "file_extension": ".py",
   "mimetype": "text/x-python",
   "name": "python",
   "nbconvert_exporter": "python",
   "pygments_lexer": "ipython3",
   "version": "3.6.0"
  }
 },
 "nbformat": 4,
 "nbformat_minor": 2
}
