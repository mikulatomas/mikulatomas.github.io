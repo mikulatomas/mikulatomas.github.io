{
 "cells": [
  {
   "cell_type": "code",
   "execution_count": null,
   "metadata": {
    "collapsed": true,
    "deletable": true,
    "editable": true
   },
   "outputs": [],
   "source": [
    "import threading\n",
    "\n",
    "def example_activity():\n",
    "    print(\"Hello World\")\n",
    "\n",
    "example_thread = threading.Thread(target=example_activity)\n",
    "\n",
    "example_thread.start()"
   ]
  },
  {
   "cell_type": "code",
   "execution_count": 2,
   "metadata": {
    "collapsed": false,
    "deletable": true,
    "editable": true
   },
   "outputs": [
    {
     "name": "stdout",
     "output_type": "stream",
     "text": [
      "Your number is 10\n"
     ]
    }
   ],
   "source": [
    "import threading\n",
    "\n",
    "def example_activity_with_args(number):\n",
    "    print(f\"Your number is {number}\")\n",
    "\n",
    "example_thread = threading.Thread(target=example_activity_with_args, args=(10,))\n",
    "\n",
    "example_thread.start()"
   ]
  },
  {
   "cell_type": "code",
   "execution_count": 2,
   "metadata": {
    "collapsed": false
   },
   "outputs": [
    {
     "name": "stdout",
     "output_type": "stream",
     "text": [
      "ahoj svete\n"
     ]
    }
   ],
   "source": [
    "import threading\n",
    "\n",
    "text = 'ahoj '\n",
    "\n",
    "def thread_function():\n",
    "    global text\n",
    "\n",
    "    text += 'svete'\n",
    "\n",
    "thread = threading.Thread(target=thread_function)\n",
    "\n",
    "thread.start()\n",
    "thread.join()\n",
    "\n",
    "print(text)"
   ]
  }
 ],
 "metadata": {
  "kernelspec": {
   "display_name": "Python 3",
   "language": "python",
   "name": "python3"
  },
  "language_info": {
   "codemirror_mode": {
    "name": "ipython",
    "version": 3
   },
   "file_extension": ".py",
   "mimetype": "text/x-python",
   "name": "python",
   "nbconvert_exporter": "python",
   "pygments_lexer": "ipython3",
   "version": "3.6.0"
  }
 },
 "nbformat": 4,
 "nbformat_minor": 2
}
